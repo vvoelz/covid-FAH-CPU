{
 "cells": [
  {
   "cell_type": "code",
   "execution_count": 1,
   "metadata": {},
   "outputs": [
    {
     "name": "stdout",
     "output_type": "stream",
     "text": [
      "equilibrated_4fs.pdb  integrator.xml  state_4fs.xml   system.xml\r\n",
      "equilibrated.pdb      minimized.pdb   state.xml       Untitled.ipynb\r\n",
      "integrator_4fs.xml    solvated.pdb    system_4fs.xml\r\n"
     ]
    }
   ],
   "source": [
    "%ls"
   ]
  },
  {
   "cell_type": "code",
   "execution_count": 2,
   "metadata": {},
   "outputs": [
    {
     "name": "stdout",
     "output_type": "stream",
     "text": [
      "Reading the PDB file\n",
      "Reading the force field\n",
      "Creating the system\n",
      "Creating a structure from the OpenMM objects\n",
      "Saving GROMACS files\n"
     ]
    }
   ],
   "source": [
    "from simtk.openmm.app import ForceField\n",
    "\n",
    "from simtk import unit\n",
    "\n",
    "from simtk.openmm import app\n",
    "\n",
    "import parmed\n",
    "\n",
    "print('Reading the PDB file')\n",
    "pdb = parmed.load_file(\"equilibrated_4fs.pdb\")\n",
    "\n",
    "print('Reading the force field')\n",
    "ff = ForceField('amber99sb.xml', 'tip3p.xml')\n",
    "\n",
    "print('Creating the system')\n",
    "omm_system = ff.createSystem(pdb.topology,\n",
    "                             nonbondedCutoff=1*unit.nanometer,\n",
    "                             nonbondedMethod=app.PME,\n",
    "                             constraints=None,\n",
    "                             rigidWater=False)\n",
    "\n",
    "\n",
    "print('Creating a structure from the OpenMM objects')\n",
    "pmd_structure = parmed.openmm.load_topology(pdb.topology, system=omm_system, xyz=pdb.positions)\n",
    "\n",
    "\n",
    "print('Saving GROMACS files')\n",
    "pmd_structure.save(\"SYSTEM.top\", overwrite=True)\n",
    "pmd_structure.save(\"SYSTEM.gro\", overwrite=True)"
   ]
  },
  {
   "cell_type": "code",
   "execution_count": null,
   "metadata": {},
   "outputs": [],
   "source": []
  }
 ],
 "metadata": {
  "kernelspec": {
   "display_name": "Python 3",
   "language": "python",
   "name": "python3"
  },
  "language_info": {
   "codemirror_mode": {
    "name": "ipython",
    "version": 3
   },
   "file_extension": ".py",
   "mimetype": "text/x-python",
   "name": "python",
   "nbconvert_exporter": "python",
   "pygments_lexer": "ipython3",
   "version": "3.7.3"
  }
 },
 "nbformat": 4,
 "nbformat_minor": 2
}
