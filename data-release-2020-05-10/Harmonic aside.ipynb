{
 "cells": [
  {
   "cell_type": "markdown",
   "metadata": {},
   "source": [
    "For a molecule in **solution**, the free energy of restraint can be calculated analytically as $\\Delta G_{rest} = -kT \\ln \\big( \\frac{2\\pi}{V_0 \\beta k} \\big)^{3/2}$.\n",
    "\n",
    "For our system, with a box volume of about $V_0$ = 570.6 nm$^3$, this comes to $\\Delta G_{rest}$ = +15.41 $kT$.\n",
    "\n",
    "WE NOTE however that we are NOT performing restrained simulations of ligand in solvent!"
   ]
  },
  {
   "cell_type": "code",
   "execution_count": 2,
   "metadata": {},
   "outputs": [
    {
     "name": "stdout",
     "output_type": "stream",
     "text": [
      "beta 0.4008153224964093\n",
      "box_dims [8.29427, 8.29427, 8.29427] nm\n",
      "box volume V_0 = 570.6035982510773 nm^3\n",
      "f_rest (analytical)= 15.418762358910815 kT\n"
     ]
    }
   ],
   "source": [
    "import numpy as np\n",
    "\n",
    "### The analytical estimate for adding a harmonic restraint\n",
    "k = 800.0 # harmonic force constant, in   kJ/nm^2\n",
    "kB = 1.381e-23 * 6.022e23 / 1000.0 # Boltzmann constant in kJ/mol/K\n",
    "temperature = 300.  # in K\n",
    "beta = 1.0 / (kB * temperature) # inverse temperature of simulations (in 1/(kJ/mol))\n",
    "print('beta',  beta)\n",
    "        \n",
    "box_line = \"    8.29427   8.29427   8.29427\"\n",
    "box_dims = [float(s) for s in (box_line.strip()).split() ]\n",
    "print('box_dims', box_dims, 'nm')\n",
    "V0 = box_dims[0]*box_dims[1]*box_dims[2]   # box volume in nm^3\n",
    "print('box volume V_0 =', V0, 'nm^3')\n",
    "\n",
    "f_rest = -(3./2.)*np.log( 2.*np.pi/(V0*beta*k))  # in units kT\n",
    "print('f_rest (analytical)=', f_rest, 'kT') "
   ]
  },
  {
   "cell_type": "code",
   "execution_count": null,
   "metadata": {},
   "outputs": [],
   "source": []
  }
 ],
 "metadata": {
  "kernelspec": {
   "display_name": "Python 3",
   "language": "python",
   "name": "python3"
  },
  "language_info": {
   "codemirror_mode": {
    "name": "ipython",
    "version": 3
   },
   "file_extension": ".py",
   "mimetype": "text/x-python",
   "name": "python",
   "nbconvert_exporter": "python",
   "pygments_lexer": "ipython3",
   "version": "3.7.3"
  }
 },
 "nbformat": 4,
 "nbformat_minor": 2
}
