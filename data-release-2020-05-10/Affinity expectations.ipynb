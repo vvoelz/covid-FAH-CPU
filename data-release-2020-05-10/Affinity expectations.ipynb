{
 "cells": [
  {
   "cell_type": "markdown",
   "metadata": {},
   "source": [
    "# Affinity expectations\n",
    "\n",
    "The absolute FEP calculations produce a range of (mostly negative) free energies of binding.  But what kind of binding free energies *should* we expect?\n",
    "\n",
    "## Thermodynamic path\n",
    "\n",
    "The full thermodynamic path for calculating the binding free energy is calculated from three quantities:\n",
    "\n",
    "* $\\Delta G_{RL}$, the free energy of *coupling* the ligand to the receptor\n",
    "* $\\Delta G_{L}$, the free energy of *coupling* the ligand to pure solvent\n",
    "* $\\Delta G_{rest}$, the free of *constraining* the ligand with a harmonic potential (a positive number)\n",
    "\n",
    "For our `v2` and `v3` protocols, the number `febkT` that reported in  our rankings is the cost of *decoupling* the ligand from solvent, and then coupling it to the receptor with a harmonic restraint in place with force constant $k$ = 800.0 kJ nm$^{-1}$.\n",
    "\n",
    "`febkT` = $\\Delta G_{RL}$ - $\\Delta G_{L}$\n",
    "\n",
    "To correctly account for the presence of the harmonic restraint, we would need to subtract the free energy of restraint to obtain the free energy of binding (at the concentration used in the simulation):\n",
    "\n",
    "$\\Delta G_{RL}$ - $\\Delta G_{L}$ - $\\Delta G_{rest}$\n",
    "\n",
    "Using the MBAR free energy estimator, we estimate that most of the ligands screened have $\\Delta G_{rest}$ around +2.0 $kT$.   For now we will just assume this is a fixed number, and can refine estimates later."
   ]
  },
  {
   "cell_type": "markdown",
   "metadata": {},
   "source": [
    "## Typical $K_D$ at standard concentrations\n",
    "\n",
    "Suppose our `febkT` prediction is $\\Delta G_{febKT}$ = -10.0 kT.  What is the predicted value of K_D?\n",
    "\n",
    "Our simulations have a concentration of $C = 1/V_0 = (6.022 \\times 10^{23})^{-1}$ mol $/ 570.6 (10^{-8})^3$ dm$^3$, which is about 2.91 mM."
   ]
  },
  {
   "cell_type": "code",
   "execution_count": 9,
   "metadata": {},
   "outputs": [
    {
     "name": "stdout",
     "output_type": "stream",
     "text": [
      "C = 0.002910231127063834 M = 2.910231127063834 mM\n",
      "C_0 = 1.0 M is the standard concentration\n"
     ]
    }
   ],
   "source": [
    "C = (1./6.022e23)/(570.6e-24)  # in mol/L\n",
    "print('C =', C, 'M =', C*1000., 'mM')\n",
    "\n",
    "C_0 = 1.0   # in M\n",
    "print('C_0 =', C_0, 'M is the standard concentration')"
   ]
  },
  {
   "cell_type": "markdown",
   "metadata": {},
   "source": [
    "Our corrected estimate of binding free energy at 2.91 mM is\n",
    "\n",
    "$\\Delta G_b = +kT \\ln(K_D/C) = \\Delta G_{febkT}$ - 2 $kT$ = -12 $kT$.\n",
    "\n",
    "To get this into the binding free energy $\\Delta G_b$˚ at standard concentration ($C_0 =$ 1 M), we correct for our simualtion concentration\n",
    "\n",
    "$\\Delta G_b$˚$ = +kT \\ln(K_D/C_0) = \\Delta G_b + kT \\ln \\frac{C}{C_0}$ ..."
   ]
  },
  {
   "cell_type": "code",
   "execution_count": 10,
   "metadata": {},
   "outputs": [
    {
     "data": {
      "text/plain": [
       "-5.839522775844896"
      ]
     },
     "execution_count": 10,
     "metadata": {},
     "output_type": "execute_result"
    }
   ],
   "source": [
    "# kT \\ln \\frac{C}{C_0}\n",
    "np.log(C/C_0)"
   ]
  },
  {
   "cell_type": "markdown",
   "metadata": {},
   "source": [
    "... $\\Delta G_b$˚$ = -12 - 5.839 = -17.839 $kT$"
   ]
  },
  {
   "cell_type": "code",
   "execution_count": 14,
   "metadata": {},
   "outputs": [
    {
     "name": "stdout",
     "output_type": "stream",
     "text": [
      "1.7890428281453674e-08\n"
     ]
    }
   ],
   "source": [
    "K_D = np.exp(-17.839)\n",
    "print(K_D)"
   ]
  },
  {
   "cell_type": "markdown",
   "metadata": {},
   "source": [
    "... so a $K_D$ of about 17 nM!\n",
    "\n",
    "How about a prediction of `febkT` = -15 kT?\n",
    "\n",
    "This would translate to about $\\Delta G_b$˚$ = -17 - 5.839 = -22.839 $kT$"
   ]
  },
  {
   "cell_type": "code",
   "execution_count": 15,
   "metadata": {},
   "outputs": [
    {
     "name": "stdout",
     "output_type": "stream",
     "text": [
      "1.2054475755137456e-10\n"
     ]
    }
   ],
   "source": [
    "K_D = np.exp(-22.839)\n",
    "print(K_D)"
   ]
  },
  {
   "cell_type": "markdown",
   "metadata": {},
   "source": [
    "...or a $K_D$ of about 0.12 nM!"
   ]
  },
  {
   "cell_type": "markdown",
   "metadata": {},
   "source": [
    "Here's a handy conversion function to convert our `febkT` value into a predicted $K_D$:"
   ]
  },
  {
   "cell_type": "code",
   "execution_count": 24,
   "metadata": {},
   "outputs": [],
   "source": [
    "def febkT_to_KD(febkT, dG_rest=2.0, box_length=8.2947):\n",
    "    \"\"\"Converts our febkT value to a K_D value in (M = mol/L).\n",
    "    \n",
    "    INPUT\n",
    "    febkT      - our febkT score (in kT)\n",
    "    \n",
    "    PARAMETERS\n",
    "    dG_rest    - the free energy of *restraining* the ligand (in kT)\n",
    "                 NOTE: this should be a positive number\n",
    "    box_length - the simulated PBC box length (in nm).\n",
    "                 NOTE: a cubic box is assumed\n",
    "    \n",
    "    RETURNS\n",
    "    K_D      - the estimated K_D value (in M)\"\"\"\n",
    "    \n",
    "    # Convert the box length to a simulated concentration\n",
    "    N_A = 6.022e23\n",
    "    V_0 = (box_length/1.0e8)**3   # in dm^3 = L\n",
    "    simulated_conc = 1.0/(N_A*V_0)\n",
    "\n",
    "    dG_standard = febkT - dG_rest + np.log(simulated_conc)\n",
    "    K_D = np.exp(dG_standard)\n",
    "    \n",
    "    return K_D"
   ]
  },
  {
   "cell_type": "code",
   "execution_count": 25,
   "metadata": {},
   "outputs": [
    {
     "data": {
      "image/png": "[encoded data removed]",
      "text/plain": [
       "<Figure size 288x252 with 1 Axes>"
      ]
     },
     "metadata": {
      "needs_background": "light"
     },
     "output_type": "display_data"
    }
   ],
   "source": [
    "# Here's a conversion chart\n",
    "\n",
    "from matplotlib import pyplot as plt\n",
    "%matplotlib inline\n",
    "\n",
    "x_febkt = np.arange(0, -15.0, -0.1)\n",
    "y_KD = febkT_to_KD(x_febkt)\n",
    "\n",
    "plt.figure(figsize=(4,3.5))\n",
    "plt.plot(x_febkt, y_KD, lw=2.0)\n",
    "plt.xlabel('febkT')\n",
    "plt.ylabel('Predicted $K_D$ (M)')\n",
    "plt.yscale('log')\n",
    "plt.tight_layout()\n",
    "plt.savefig('febkT_to_KD.pdf')\n",
    "plt.show()\n",
    "\n"
   ]
  },
  {
   "cell_type": "code",
   "execution_count": null,
   "metadata": {},
   "outputs": [],
   "source": []
  }
 ],
 "metadata": {
  "kernelspec": {
   "display_name": "Python 3",
   "language": "python",
   "name": "python3"
  },
  "language_info": {
   "codemirror_mode": {
    "name": "ipython",
    "version": 3
   },
   "file_extension": ".py",
   "mimetype": "text/x-python",
   "name": "python",
   "nbconvert_exporter": "python",
   "pygments_lexer": "ipython3",
   "version": "3.7.3"
  }
 },
 "nbformat": 4,
 "nbformat_minor": 2
}
